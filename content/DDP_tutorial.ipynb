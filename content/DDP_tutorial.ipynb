{
 "cells": [
  {
   "cell_type": "markdown",
   "metadata": {},
   "source": [
    "# Distributed Data Parallel"
   ]
  },
  {
   "cell_type": "markdown",
   "metadata": {},
   "source": [
    "In this tutorial we will cover distributed data parallel training using PyTorch [distributed](https://pytorch.org/docs/stable/distributed.html) package. \n",
    "\n",
    "[DistributedDataParallel](https://pytorch.org/docs/stable/_modules/torch/nn/parallel/distributed.html) (DDP) implements data parallelism at the module level. It uses communication collectives in the [torch.distributed](https://pytorch.org/tutorials/intermediate/dist_tuto.html) package to synchronize gradients, parameters, and buffers.\n",
    "\n",
    "To initialize DDP we use the `int_process_group` function. This tutorial uses the `NCCL` backend for IPC with `TCP initialization` mechanism (by setting the url tcp://<master_address>:<master_port>). See the [distributed](https://pytorch.org/docs/stable/distributed.html) documentation for details on the other methods supported.\n",
    "\n"
   ]
  },
  {
   "cell_type": "markdown",
   "metadata": {},
   "source": [
    "We will use a two node setup, with two gpus each as shown in the diagram below:\n",
    "\n",
    "![network](./images/docker-ptgtc.jpeg)\n",
    "\n",
    "\n",
    "Following jobs will be launched for DDP training: \n",
    "\n",
    "1. Rank 0 (master) on Node1\n",
    "2. Rank 1 (worker1) on Node1\n",
    "2. Rank 2 (worker1) on Node2\n",
    "2. Rank 3 (worker2) on Node2"
   ]
  },
  {
   "cell_type": "markdown",
   "metadata": {},
   "source": [
    "Launch the first two jobs on Node1. Open a command terminal window and run following commands for the master job.\n",
    "\n",
    "    export NCCL_DEBUG=info \n",
    "    python ./code/ddp_tutorial.py 0 0"
   ]
  },
  {
   "cell_type": "markdown",
   "metadata": {},
   "source": [
    "Open a second command terminal window on Node1 and run following commands for the worker process:\n",
    "\n",
    "    export NCCL_DEBUG=info\n",
    "    python ./code/ddp_tutorial.py 1 1"
   ]
  },
  {
   "cell_type": "markdown",
   "metadata": {},
   "source": [
    "Launch the second set of jobs on Node2. Open a command terminal window and run following commands for the master job.\n",
    "\n",
    "    export NCCL_DEBUG=info\n",
    "    python ./code/ddp_tutorial.py 2 0"
   ]
  },
  {
   "cell_type": "markdown",
   "metadata": {},
   "source": [
    "Open a second command terminal window on Node2 and run following commands for the worker process:\n",
    "\n",
    "    export NCCL_DEBUG=info\n",
    "    python ./code/ddp_tutorial.py 3 1"
   ]
  },
  {
   "cell_type": "markdown",
   "metadata": {},
   "source": [
    "Open a third command terminal window on Node1 and run following commands to monitor the ports:\n",
    "\n",
    "    lsof -i -P -n"
   ]
  }
 ],
 "metadata": {
  "kernelspec": {
   "display_name": "Python 3",
   "language": "python",
   "name": "python3"
  },
  "language_info": {
   "codemirror_mode": {
    "name": "ipython",
    "version": 3
   },
   "file_extension": ".py",
   "mimetype": "text/x-python",
   "name": "python",
   "nbconvert_exporter": "python",
   "pygments_lexer": "ipython3",
   "version": "3.7.5"
  }
 },
 "nbformat": 4,
 "nbformat_minor": 2
}
