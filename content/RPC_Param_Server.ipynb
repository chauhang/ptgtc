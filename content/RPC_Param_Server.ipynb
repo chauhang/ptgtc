{
 "cells": [
  {
   "cell_type": "markdown",
   "metadata": {},
   "source": [
    "# RPC Param Server"
   ]
  },
  {
   "cell_type": "markdown",
   "metadata": {},
   "source": [
    "In this tutorial we will cover [distributed rpc training](https://pytorch.org/docs/stable/rpc.html) with a parameter server. \n",
    "\n",
    "\n",
    "To initialize RPC framework, we use `init_rpc` instead of `init_process_group` (as seen in DDP). The `init_rpc`function initialize the RPC framework, RRef framework and distributed autograd. By default, this will also initialize the ProcessGroup (init_process_group()) backend for RPC communication. The ProcessGroup backend internally uses gloo for communication.\n",
    "\n"
   ]
  },
  {
   "cell_type": "markdown",
   "metadata": {},
   "source": [
    "We will use a two node setup, with two gpus each as shown in the diagram below:\n",
    "\n",
    "![network](./images/docker-ptgtc.jpeg)\n",
    "\n",
    "\n",
    "Following jobs will be launched for RPC training: \n",
    "\n",
    "1. Rank 0 (master) on Node1\n",
    "2. Rank 1 (worker1) on Node1\n",
    "3. Rank 2 (worker1) on Node2\n",
    "4. Rank 3 (worker2) on Node2\n"
   ]
  },
  {
   "cell_type": "raw",
   "metadata": {},
   "source": [
    "Launch the first two jobs on Node1. Open a command terminal window and run following commands for the master job.\n",
    "\n",
    "    python ./code/rpc_param_server.py --master_addr=192.168.0.2 4 0 0\n",
    "    \n",
    "The master process will act as the parameter server and use RPC for synchronizing all the parameters across the workers. "
   ]
  },
  {
   "cell_type": "markdown",
   "metadata": {},
   "source": [
    "Open a second command terminal window on Node1 and run following commands for the worker process:\n",
    "\n",
    "    python ./code/rpc_param_server.py --master_addr=192.168.0.2 4 1 2"
   ]
  },
  {
   "cell_type": "markdown",
   "metadata": {},
   "source": [
    "Launch the second set of jobs on Node2. Open a command terminal window and run following commands for the master job.\n",
    "\n",
    "    python ./code/rpc_param_server.py --master_addr=192.168.0.2 4 2 2"
   ]
  },
  {
   "cell_type": "markdown",
   "metadata": {},
   "source": [
    "Open a second command terminal window on Node2 and run following commands for the worker process:\n",
    "\n",
    "    python ./code/rpc_param_server.py --master_addr=192.168.0.2 4 3 2"
   ]
  },
  {
   "cell_type": "markdown",
   "metadata": {},
   "source": [
    "Open a third command terminal window on Node1 and run following commands to monitor the ports:\n",
    "\n",
    "    lsof -i -P -n"
   ]
  }
 ],
 "metadata": {
  "kernelspec": {
   "display_name": "Python 3",
   "language": "python",
   "name": "python3"
  },
  "language_info": {
   "codemirror_mode": {
    "name": "ipython",
    "version": 3
   },
   "file_extension": ".py",
   "mimetype": "text/x-python",
   "name": "python",
   "nbconvert_exporter": "python",
   "pygments_lexer": "ipython3",
   "version": "3.6.7"
  }
 },
 "nbformat": 4,
 "nbformat_minor": 4
}
